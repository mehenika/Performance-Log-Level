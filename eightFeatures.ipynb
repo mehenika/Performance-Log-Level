{
  "nbformat": 4,
  "nbformat_minor": 0,
  "metadata": {
    "colab": {
      "provenance": [],
      "authorship_tag": "ABX9TyNLoKEBwbXti2np2vmYCPKQ",
      "include_colab_link": true
    },
    "kernelspec": {
      "name": "python3",
      "display_name": "Python 3"
    },
    "language_info": {
      "name": "python"
    }
  },
  "cells": [
    {
      "cell_type": "markdown",
      "metadata": {
        "id": "view-in-github",
        "colab_type": "text"
      },
      "source": [
        "<a href=\"https://colab.research.google.com/github/mehenika/Performance-Log-Level/blob/main/eightFeatures.ipynb\" target=\"_parent\"><img src=\"https://colab.research.google.com/assets/colab-badge.svg\" alt=\"Open In Colab\"/></a>"
      ]
    },
    {
      "cell_type": "code",
      "source": [
        "import javalang\n",
        "import nltk\n",
        "from collections import Counter\n",
        "from nltk.corpus import stopwords\n",
        "from nltk.tokenize import word_tokenize\n",
        "\n",
        "def extract_features(code):\n",
        "    # Parse the code into an AST\n",
        "    tree = javalang.parse.parse(code)\n",
        "\n",
        "    # Extracting features\n",
        "    average_log_level = calculate_average_log_level(tree)\n",
        "    first_block_type = get_first_block_type(tree)\n",
        "    second_block_type = get_second_block_type(tree)\n",
        "    has_throw_statement = check_throw_statement(tree)\n",
        "    num_variables = count_variables(tree)\n",
        "    num_tokens = count_tokens(code)\n",
        "    text_length = len(code)\n",
        "    word_similarity = calculate_word_similarity(code)\n",
        "\n",
        "    # Return the extracted features\n",
        "    return {\n",
        "        \"average_log_level\": average_log_level,\n",
        "        \"first_block_type\": first_block_type,\n",
        "        \"second_block_type\": second_block_type,\n",
        "        \"has_throw_statement\": has_throw_statement,\n",
        "        \"num_variables\": num_variables,\n",
        "        \"num_tokens\": num_tokens,\n",
        "        \"text_length\": text_length,\n",
        "        \"word_similarity\": word_similarity\n",
        "    }\n",
        "\n",
        "def calculate_average_log_level(tree):\n",
        "    log_level_count = 0\n",
        "    log_statement_count = 0\n",
        "    \n",
        "    for _, node in tree.filter(javalang.tree.MethodInvocation):\n",
        "        \n",
        "        if node.qualifier == 'logger':\n",
        "            log_statement_count += 1\n",
        "            if node.member == 'trace':\n",
        "              log_level_count += 1\n",
        "            if node.member == 'debug':\n",
        "              log_level_count += 2\n",
        "            if node.member == 'info':\n",
        "              log_level_count += 3\n",
        "            if node.member == 'warn':\n",
        "              log_level_count += 4\n",
        "            if node.member == 'error':\n",
        "              log_level_count += 5\n",
        "    \n",
        "    if log_statement_count > 0:\n",
        "        average_log_level = log_level_count / log_statement_count\n",
        "    else:\n",
        "        average_log_level = 0.0\n",
        "    \n",
        "    return average_log_level\n",
        "\n",
        "\n",
        "def get_first_block_type(tree):\n",
        "    # Implementation to extract the type of the first block\n",
        "    # in the code (e.g., if, for, while, etc.)\n",
        "    for _, node in tree.filter(javalang.tree.BlockStatement):\n",
        "        if isinstance(node, javalang.tree.IfStatement):\n",
        "            return 'if'\n",
        "        elif isinstance(node, javalang.tree.ForStatement):\n",
        "            return 'for'\n",
        "        elif isinstance(node, javalang.tree.WhileStatement):\n",
        "            return 'while'\n",
        "        # Add more conditions for other block types as needed\n",
        "    \n",
        "    return 'unknown'\n",
        "\n",
        "def get_second_block_type(tree):\n",
        "    # Implementation to extract the type of the second block\n",
        "    # in the code (e.g., if, for, while, etc.)\n",
        "    for _, node in tree.filter(javalang.tree.BlockStatement):\n",
        "        if isinstance(node, javalang.tree.IfStatement):\n",
        "            return 'if'\n",
        "        elif isinstance(node, javalang.tree.ForStatement):\n",
        "            return 'for'\n",
        "        elif isinstance(node, javalang.tree.WhileStatement):\n",
        "            return 'while'\n",
        "        # Add more conditions for other block types as needed\n",
        "    return 'unknown'\n",
        "\n",
        "def check_throw_statement(tree):\n",
        "    # Implementation to check if the code contains a throw statement\n",
        "    for _, node in tree:\n",
        "        if isinstance(node, javalang.tree.ThrowStatement):\n",
        "            return True\n",
        "    \n",
        "    return False\n",
        "\n",
        "\n",
        "def count_variables(tree):\n",
        "    # Implementation to count the number of variables in the code\n",
        "    variable_counter = Counter()\n",
        "\n",
        "    for _, node in tree:\n",
        "        if isinstance(node, javalang.tree.LocalVariableDeclaration):\n",
        "            for variable in node.declarators:\n",
        "                variable_counter[variable.name] += 1\n",
        "\n",
        "    return len(variable_counter)\n",
        "\n",
        "\n",
        "def count_tokens(code):\n",
        "    # Implementation to count the number of tokens in the code\n",
        "    tokens = list(javalang.tokenizer.tokenize(code))\n",
        "    return len(tokens)\n",
        "    \n",
        "\n",
        "def calculate_word_similarity(code):\n",
        "    # Tokenize the code into words\n",
        "    tokens = word_tokenize(code)\n",
        "\n",
        "    # Remove stopwords\n",
        "    stop_words = set(stopwords.words('english'))\n",
        "    filtered_tokens = [token for token in tokens if token.lower() not in stop_words]\n",
        "\n",
        "    # Calculate the word similarity\n",
        "    word_similarity = len(set(filtered_tokens)) / len(tokens)\n",
        "\n",
        "    return word_similarity\n",
        "\n",
        "\n",
        "# Example usage\n",
        "java_code = \"\"\"\n",
        "public class MyClass {\n",
        "        public static void flakyTest(Runnable test, int rerunsOnFailure, String message)\n",
        "    {\n",
        "        AssertionError e = runCatchingAssertionError(test);\n",
        "        if (e == null)\n",
        "            return;     // success\n",
        "\n",
        "        logger.info(\"Test failed. {}\", message, e);\n",
        "        logger.info(\"Re-running {} times to verify it isn't failing more often than it should.\", rerunsOnFailure);\n",
        "\n",
        "        int rerunsFailed = 0;\n",
        "        for (int i = 0; i < rerunsOnFailure; ++i)\n",
        "        {\n",
        "            AssertionError t = runCatchingAssertionError(test);\n",
        "            if (t != null)\n",
        "            {\n",
        "                ++rerunsFailed;\n",
        "                e.addSuppressed(t);\n",
        "\n",
        "                logger.debug(\"Test failed again, total num failures: {}\", rerunsFailed, t);\n",
        "            }\n",
        "        }\n",
        "        if (rerunsFailed > 0)\n",
        "        {\n",
        "            logger.error(\"Test failed in {} of the {} reruns.\", rerunsFailed, rerunsOnFailure);\n",
        "            throw e;\n",
        "        }\n",
        "\n",
        "        logger.info(\"All reruns succeeded. Failure treated as flake.\");\n",
        "    }\n",
        "    }\n",
        "\n",
        "\"\"\"\n",
        "\n",
        "features = extract_features(java_code)\n",
        "print(features)\n",
        "\n",
        "\n"
      ],
      "metadata": {
        "colab": {
          "base_uri": "https://localhost:8080/"
        },
        "id": "UDQf3Ntladjx",
        "outputId": "fa593513-55cb-4dde-def7-8d65eaf1ad3c"
      },
      "execution_count": 16,
      "outputs": [
        {
          "output_type": "stream",
          "name": "stdout",
          "text": [
            "{'average_log_level': 3.2, 'first_block_type': 'unknown', 'second_block_type': 'unknown', 'has_throw_statement': True, 'num_variables': 3, 'num_tokens': 144, 'text_length': 1039, 'word_similarity': 0.31216931216931215}\n"
          ]
        }
      ]
    },
    {
      "cell_type": "code",
      "source": [
        "import nltk\n",
        "nltk.download('stopwords')"
      ],
      "metadata": {
        "colab": {
          "base_uri": "https://localhost:8080/"
        },
        "id": "Wk5ZoBngp-cn",
        "outputId": "488fb39e-9871-434c-e2e2-30001234692b"
      },
      "execution_count": 15,
      "outputs": [
        {
          "output_type": "stream",
          "name": "stderr",
          "text": [
            "[nltk_data] Downloading package stopwords to /root/nltk_data...\n",
            "[nltk_data]   Unzipping corpora/stopwords.zip.\n"
          ]
        },
        {
          "output_type": "execute_result",
          "data": {
            "text/plain": [
              "True"
            ]
          },
          "metadata": {},
          "execution_count": 15
        }
      ]
    },
    {
      "cell_type": "code",
      "source": [
        "import nltk\n",
        "nltk.download('punkt')"
      ],
      "metadata": {
        "colab": {
          "base_uri": "https://localhost:8080/"
        },
        "id": "2B4dVSJspwjh",
        "outputId": "91c419ef-c892-41cd-fda3-3f88e700eb46"
      },
      "execution_count": 12,
      "outputs": [
        {
          "output_type": "stream",
          "name": "stderr",
          "text": [
            "[nltk_data] Downloading package punkt to /root/nltk_data...\n",
            "[nltk_data]   Unzipping tokenizers/punkt.zip.\n"
          ]
        },
        {
          "output_type": "execute_result",
          "data": {
            "text/plain": [
              "True"
            ]
          },
          "metadata": {},
          "execution_count": 12
        }
      ]
    },
    {
      "cell_type": "code",
      "source": [
        "pip install javalang"
      ],
      "metadata": {
        "colab": {
          "base_uri": "https://localhost:8080/"
        },
        "id": "fnMR_BLHqPkc",
        "outputId": "8acde867-ecc5-4078-9699-839765f4063d"
      },
      "execution_count": 2,
      "outputs": [
        {
          "output_type": "stream",
          "name": "stdout",
          "text": [
            "Looking in indexes: https://pypi.org/simple, https://us-python.pkg.dev/colab-wheels/public/simple/\n",
            "Collecting javalang\n",
            "  Downloading javalang-0.13.0-py3-none-any.whl (22 kB)\n",
            "Requirement already satisfied: six in /usr/local/lib/python3.10/dist-packages (from javalang) (1.16.0)\n",
            "Installing collected packages: javalang\n",
            "Successfully installed javalang-0.13.0\n"
          ]
        }
      ]
    }
  ]
}