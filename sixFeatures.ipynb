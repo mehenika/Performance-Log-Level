{
  "nbformat": 4,
  "nbformat_minor": 0,
  "metadata": {
    "colab": {
      "provenance": [],
      "authorship_tag": "ABX9TyPJkq/B7snF+yK/FdAAh7fc",
      "include_colab_link": true
    },
    "kernelspec": {
      "name": "python3",
      "display_name": "Python 3"
    },
    "language_info": {
      "name": "python"
    }
  },
  "cells": [
    {
      "cell_type": "markdown",
      "metadata": {
        "id": "view-in-github",
        "colab_type": "text"
      },
      "source": [
        "<a href=\"https://colab.research.google.com/github/mehenika/Performance-Log-Level/blob/main/sixFeatures.ipynb\" target=\"_parent\"><img src=\"https://colab.research.google.com/assets/colab-badge.svg\" alt=\"Open In Colab\"/></a>"
      ]
    },
    {
      "cell_type": "code",
      "source": [
        "pip install javalang\n"
      ],
      "metadata": {
        "colab": {
          "base_uri": "https://localhost:8080/"
        },
        "id": "Zp4mm-M6Wrc0",
        "outputId": "c820dae9-31a7-4ec7-a495-9423dde1ac2f"
      },
      "execution_count": 2,
      "outputs": [
        {
          "output_type": "stream",
          "name": "stdout",
          "text": [
            "Looking in indexes: https://pypi.org/simple, https://us-python.pkg.dev/colab-wheels/public/simple/\n",
            "Collecting javalang\n",
            "  Downloading javalang-0.13.0-py3-none-any.whl (22 kB)\n",
            "Requirement already satisfied: six in /usr/local/lib/python3.10/dist-packages (from javalang) (1.16.0)\n",
            "Installing collected packages: javalang\n",
            "Successfully installed javalang-0.13.0\n"
          ]
        }
      ]
    },
    {
      "cell_type": "code",
      "source": [
        "import javalang\n",
        "\n",
        "def extract_features(code):\n",
        "    features = {\n",
        "        'MethodDeclar': 0,\n",
        "        'VarDeclar': 0,\n",
        "        'BooleanLiteral': 0,\n",
        "        'IfStm': 0,\n",
        "        'LogStm': 0,\n",
        "        'MethodInvoc': 0\n",
        "    }\n",
        "    \n",
        "    tree = javalang.parse.parse(code)\n",
        "    \n",
        "    for path, node in tree:\n",
        "        if isinstance(node, javalang.tree.MethodDeclaration):\n",
        "            features['MethodDeclar'] += 1\n",
        "        elif isinstance(node, javalang.tree.LocalVariableDeclaration):\n",
        "            features['VarDeclar'] += 1\n",
        "        elif isinstance(node, javalang.tree.Literal) and isinstance(node.value, bool):\n",
        "            features['BooleanLiteral'] += 1\n",
        "        elif isinstance(node, javalang.tree.IfStatement):\n",
        "            features['IfStm'] += 1\n",
        "        elif isinstance(node, javalang.tree.MethodInvocation):\n",
        "            features['MethodInvoc'] += 1\n",
        "            if (\n",
        "                node.member == 'info' and\n",
        "                isinstance(node.qualifier, javalang.tree.MethodInvocation) and\n",
        "                node.qualifier.member == 'logger'\n",
        "            ):\n",
        "                features['LogStm'] += 1\n",
        "    \n",
        "    return features\n",
        "\n",
        "# Example Java code snippet\n",
        "java_code = '''\n",
        "public class MyClass{\n",
        "  public void setInterDCStreamThroughputMebibytesPerSec(int value) {\n",
        "    double oldValue = DatabaseDescriptor.getInterDCStreamThroughputOutboundMebibytesPerSec();\n",
        "    DatabaseDescriptor.setInterDCStreamThroughputOutboundMebibytesPerSecAsInt(value);\n",
        "    StreamManager.StreamRateLimiter.updateInterDCThroughput();\n",
        "    logger.info(\"setinterdcstreamthroughput: throttle set to {}{} MiB/s (was {} MiB/s)\", value, value <= 0 ? \" (unlimited)\" : \"\", oldValue);\n",
        "}\n",
        "}\n",
        "\n",
        "'''\n",
        "\n",
        "features = extract_features(java_code)\n",
        "\n",
        "print(features)\n",
        "\n",
        "\n"
      ],
      "metadata": {
        "colab": {
          "base_uri": "https://localhost:8080/"
        },
        "id": "ulgfqSRDv-wy",
        "outputId": "cfc1a2a4-872d-4e79-c29f-724c5117f957"
      },
      "execution_count": 4,
      "outputs": [
        {
          "output_type": "stream",
          "name": "stdout",
          "text": [
            "{'MethodDeclar': 1, 'VarDeclar': 1, 'BooleanLiteral': 0, 'IfStm': 0, 'LogStm': 0, 'MethodInvoc': 4}\n"
          ]
        }
      ]
    }
  ]
}